{
  "nbformat": 4,
  "nbformat_minor": 0,
  "metadata": {
    "colab": {
      "provenance": [],
      "include_colab_link": true
    },
    "kernelspec": {
      "display_name": "Python 3",
      "language": "python",
      "name": "python3"
    },
    "language_info": {
      "codemirror_mode": {
        "name": "ipython",
        "version": 3
      },
      "file_extension": ".py",
      "mimetype": "text/x-python",
      "name": "python",
      "nbconvert_exporter": "python",
      "pygments_lexer": "ipython3",
      "version": "3.8.5"
    }
  },
  "cells": [
    {
      "cell_type": "markdown",
      "metadata": {
        "id": "view-in-github",
        "colab_type": "text"
      },
      "source": [
        "<a href=\"https://colab.research.google.com/github/rmnk1908/subset_selection/blob/main/subset_selection.ipynb\" target=\"_parent\"><img src=\"https://colab.research.google.com/assets/colab-badge.svg\" alt=\"Open In Colab\"/></a>"
      ]
    },
    {
      "cell_type": "markdown",
      "metadata": {
        "id": "7nQSRI4Dim1Y"
      },
      "source": [
        "  ---\n",
        "# **Subset Selection Problem**\n",
        "---\n",
        "####**1. Problem Statement:**\n",
        "Find all the subsets from a set of numbers whose sum is zero.\n",
        "\n",
        "####**Constraint: Subset size must be 5**\n",
        "Set={-12, -3, -6, 7, 2, -2, 6, 3, 9, -7, -5, -8, 1, 11, -9, -4}\n",
        "\n",
        "---"
      ]
    },
    {
      "cell_type": "markdown",
      "metadata": {
        "id": "E3BNV7YLim12"
      },
      "source": [
        "---\n",
        "### **Program**\n",
        "---"
      ]
    },
    {
      "cell_type": "code",
      "metadata": {
        "colab": {
          "base_uri": "https://localhost:8080/"
        },
        "id": "c6KthRB9im14",
        "outputId": "913cfeed-e15f-44e9-d487-e0578e47d8fa"
      },
      "source": [
        "import random as r\n",
        "\n",
        "Set         = set([-12, -3, -6, 7, 2, -2, 6, 3, 9, -7, -5, -8, 1, 11, -9, -4])\n",
        "SetSize     = 5\n",
        "ResultList  = set()\n",
        "Iterations  = 1000\n",
        "\n",
        "for i in range(Iterations):\n",
        "    Chromosome = r.sample(sorted(Set),SetSize)\n",
        "    if sum(Chromosome) == 0:\n",
        "        ResultList.add(tuple(Chromosome))\n",
        "\n",
        "for r in ResultList:\n",
        "\tprint (r)\n",
        "\n",
        "print (\"\\nTotal Sets: \", len(ResultList))\n"
      ],
      "execution_count": 7,
      "outputs": [
        {
          "output_type": "stream",
          "name": "stdout",
          "text": [
            "(-7, -4, 6, 3, 2)\n",
            "(-4, 6, 3, -12, 7)\n",
            "(-5, -6, 6, 2, 3)\n",
            "(-12, 9, 2, 7, -6)\n",
            "(-5, 11, -8, 6, -4)\n",
            "(-2, 7, -12, 11, -4)\n",
            "(1, -7, -2, 6, 2)\n",
            "(6, -4, -6, 11, -7)\n",
            "(1, -3, 11, -12, 3)\n",
            "(9, -8, 11, -9, -3)\n",
            "(-8, -5, 9, 1, 3)\n",
            "(-6, -7, -3, 7, 9)\n",
            "(-8, -4, 9, 6, -3)\n",
            "(1, -2, 11, -4, -6)\n",
            "(1, -9, 9, 3, -4)\n",
            "(2, 1, 6, -2, -7)\n",
            "\n",
            "Total Sets:  16\n"
          ]
        }
      ]
    },
    {
      "cell_type": "markdown",
      "metadata": {
        "id": "stxrIcZtk4LT"
      },
      "source": [
        "\n",
        "\n",
        "---\n",
        "\n",
        "\n",
        "### **Program with sorting**\n",
        "---"
      ]
    },
    {
      "cell_type": "code",
      "metadata": {
        "colab": {
          "base_uri": "https://localhost:8080/"
        },
        "outputId": "06685741-54c1-4606-a3c0-2b5533e9eba3",
        "id": "zzblepy0k4LU"
      },
      "source": [
        "import random as r\n",
        "\n",
        "Set         = set([-12, -3, -6, 7, 2, -2, 6, 3, 9, -7, -5, -8, 1, 11, -9, -4])\n",
        "SetSize     = 5\n",
        "ResultList  = set()\n",
        "Iterations  = 1000\n",
        "\n",
        "for i in range(Iterations):\n",
        "    Chromosome = r.sample(Set,SetSize)\n",
        "    Chromosome.sort()\n",
        "\n",
        "    if sum(Chromosome) == 0:\n",
        "        ResultList.add(tuple(Chromosome))\n",
        "for r in ResultList:\n",
        "\tprint (r)\n",
        "\n",
        "print (\"\\nTotal Sets: \", len(ResultList))\n"
      ],
      "execution_count": null,
      "outputs": [
        {
          "output_type": "stream",
          "name": "stdout",
          "text": [
            "(-7, -4, 2, 3, 6)\n",
            "(-7, -6, -5, 7, 11)\n",
            "(-9, -5, -3, 6, 11)\n",
            "(-7, -4, -3, 3, 11)\n",
            "(-6, -5, 1, 3, 7)\n",
            "(-12, -9, 3, 7, 11)\n",
            "(-8, -5, -2, 6, 9)\n",
            "(-9, -6, 2, 6, 7)\n",
            "(-9, -7, 3, 6, 7)\n",
            "(-12, -4, 2, 3, 11)\n",
            "(-7, -5, -2, 3, 11)\n",
            "(-8, -6, -4, 7, 11)\n",
            "(-8, -4, 2, 3, 7)\n",
            "(-8, -7, -3, 7, 11)\n",
            "(-9, -8, -3, 9, 11)\n",
            "(-7, -5, -3, 6, 9)\n",
            "(-9, -3, 2, 3, 7)\n",
            "(-5, -3, -2, 3, 7)\n",
            "(-9, -3, -2, 3, 11)\n",
            "(-12, -7, 3, 7, 9)\n",
            "\n",
            "Total Sets:  20\n"
          ]
        }
      ]
    },
    {
      "cell_type": "markdown",
      "metadata": {
        "id": "Kaevs6ROim18"
      },
      "source": [
        "---\n",
        "####**2. Problem Statement:**\n",
        "Find all the subsets from a set of numbers whose sum is zero.\n",
        "\n",
        "####**Constraint: Subset size must be 3 to 6 only**\n",
        "Set={-12, -3, -6, 7, 2, -2, 6, 3, 9, -7, -5, -8, 1, 11, -9, -4}\n",
        "\n",
        "---"
      ]
    },
    {
      "cell_type": "code",
      "metadata": {
        "colab": {
          "base_uri": "https://localhost:8080/"
        },
        "id": "XmPJbrOXim19",
        "outputId": "3d0b3e93-3257-4777-ba54-453ba4961f32"
      },
      "source": [
        "import random as r\n",
        "\n",
        "Set         = set([-12, -3, -6, 7, 2, -2, 6, 3, 9, -7, -5, -8, 1, 11, -9, -4])\n",
        "SetLB       = 3\n",
        "SetUB       = 6\n",
        "ResultList  = set()\n",
        "Iterations  = 1000\n",
        "\n",
        "for i in range(Iterations):\n",
        "    SetSize = r.randint(SetLB,SetUB)\n",
        "\n",
        "    Chromosome = r.sample(list(Set),SetSize)\n",
        "    Chromosome.sort()\n",
        "\n",
        "    if sum(Chromosome) == 0:\n",
        "        ResultList.add(tuple(Chromosome))\n",
        "\n",
        "for r in ResultList:\n",
        "\tprint (r)\n",
        "\n",
        "print (\"\\nTotal Sets: \", len(ResultList))\n"
      ],
      "execution_count": null,
      "outputs": [
        {
          "output_type": "stream",
          "name": "stdout",
          "text": [
            "(-5, 2, 3)\n",
            "(-5, -4, -3, 2, 3, 7)\n",
            "(-12, -5, -3, 9, 11)\n",
            "(-8, -4, -3, 2, 6, 7)\n",
            "(-8, -4, 1, 11)\n",
            "(-9, -7, 2, 3, 11)\n",
            "(-4, 1, 3)\n",
            "(-9, -8, -7, 6, 7, 11)\n",
            "(-12, 3, 9)\n",
            "(-9, -7, -6, 6, 7, 9)\n",
            "(-9, -4, 2, 11)\n",
            "(-12, -2, 2, 3, 9)\n",
            "(-7, -4, 2, 9)\n",
            "(-9, -3, 3, 9)\n",
            "\n",
            "Total Sets:  14\n"
          ]
        }
      ]
    }
  ]
}